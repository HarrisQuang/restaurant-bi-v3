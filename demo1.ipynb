{
 "cells": [
  {
   "cell_type": "code",
   "execution_count": 4,
   "metadata": {},
   "outputs": [],
   "source": [
    "from plotly.subplots import make_subplots\n",
    "import plotly.graph_objects as go\n",
    "import plotly.express as px\n",
    "import pandas as pd\n",
    "import numpy as np\n",
    "import os, sys\n",
    "path = os.path.abspath('.')\n",
    "sys.path.append(path)\n",
    "import controller.data_warehouse as dw"
   ]
  },
  {
   "cell_type": "code",
   "execution_count": 67,
   "metadata": {},
   "outputs": [
    {
     "name": "stdout",
     "output_type": "stream",
     "text": [
      "    ngay_number        ngay_filter   ten_mon  sl_ban       tong main_cate  \\\n",
      "0      20220401  01/04/2022(01/03)  Bún Thái    43.0  1855800.0    Not KM   \n",
      "1      20220401  01/04/2022(01/03)  Bún Thái    43.0  1855800.0        KM   \n",
      "2      20220414  14/04/2022(14/03)  Bún Thái    29.0  1255500.0    Not KM   \n",
      "3      20220414  14/04/2022(14/03)  Bún Thái    29.0  1255500.0        KM   \n",
      "4      20220415  15/04/2022(15/03)  Bún Thái    38.0  1660500.0        KM   \n",
      "5      20220415  15/04/2022(15/03)  Bún Thái    38.0  1660500.0    Not KM   \n",
      "6      20220429  29/04/2022(29/03)  Bún Thái     9.0   405000.0    Not KM   \n",
      "7      20220429  29/04/2022(29/03)  Bún Thái     9.0   405000.0        KM   \n",
      "8      20220529  29/05/2022(29/04)  Bún Thái    14.0   594900.0        KM   \n",
      "9      20220529  29/05/2022(29/04)  Bún Thái    14.0   594900.0    Not KM   \n",
      "10     20220530  30/05/2022(01/05)  Bún Thái    44.0  1863000.0    Not KM   \n",
      "11     20220530  30/05/2022(01/05)  Bún Thái    44.0  1863000.0        KM   \n",
      "12     20220612  12/06/2022(14/05)  Bún Thái    48.0  2148300.0        KM   \n",
      "13     20220612  12/06/2022(14/05)  Bún Thái    48.0  2148300.0    Not KM   \n",
      "14     20220613  13/06/2022(15/05)  Bún Thái    40.0  1706400.0    Not KM   \n",
      "15     20220613  13/06/2022(15/05)  Bún Thái    40.0  1706400.0        KM   \n",
      "16     20220627  27/06/2022(29/05)  Bún Thái    13.0   573300.0        KM   \n",
      "17     20220627  27/06/2022(29/05)  Bún Thái    13.0   573300.0    Not KM   \n",
      "18     20220628  28/06/2022(30/05)  Bún Thái    23.0  1011600.0    Not KM   \n",
      "19     20220628  28/06/2022(30/05)  Bún Thái    23.0  1011600.0        KM   \n",
      "20     20220629  29/06/2022(01/06)  Bún Thái    42.0  1843200.0        KM   \n",
      "21     20220629  29/06/2022(01/06)  Bún Thái    42.0  1843200.0    Not KM   \n",
      "22     20220712  12/07/2022(14/06)  Bún Thái    19.0   819900.0        KM   \n",
      "23     20220712  12/07/2022(14/06)  Bún Thái    19.0   819900.0    Not KM   \n",
      "24     20220713  13/07/2022(15/06)  Bún Thái    32.0  1323000.0    Not KM   \n",
      "25     20220713  13/07/2022(15/06)  Bún Thái    32.0  1323000.0        KM   \n",
      "26     20220727  27/07/2022(29/06)  Bún Thái    15.0   651600.0        KM   \n",
      "27     20220727  27/07/2022(29/06)  Bún Thái    15.0   651600.0    Not KM   \n",
      "28     20220728  28/07/2022(30/06)  Bún Thái    30.0  1303200.0        KM   \n",
      "29     20220728  28/07/2022(30/06)  Bún Thái    30.0  1303200.0    Not KM   \n",
      "30     20220729  29/07/2022(01/07)  Bún Thái    45.0  1861200.0    Not KM   \n",
      "31     20220729  29/07/2022(01/07)  Bún Thái    45.0  1861200.0        KM   \n",
      "32     20220811  11/08/2022(14/07)  Bún Thái    41.0  1739700.0        KM   \n",
      "33     20220811  11/08/2022(14/07)  Bún Thái    41.0  1739700.0    Not KM   \n",
      "34     20220812  12/08/2022(15/07)  Bún Thái    67.0  2839500.0    Not KM   \n",
      "35     20220812  12/08/2022(15/07)  Bún Thái    67.0  2839500.0        KM   \n",
      "36     20220826  26/08/2022(29/07)  Bún Thái    32.0  1369800.0        KM   \n",
      "37     20220826  26/08/2022(29/07)  Bún Thái    32.0  1369800.0    Not KM   \n",
      "38     20220827  27/08/2022(01/08)  Bún Thái    49.0  2017800.0        KM   \n",
      "39     20220827  27/08/2022(01/08)  Bún Thái    49.0  2017800.0    Not KM   \n",
      "40     20220909  09/09/2022(14/08)  Bún Thái    33.0  1391400.0    Not KM   \n",
      "41     20220909  09/09/2022(14/08)  Bún Thái    33.0  1391400.0        KM   \n",
      "42     20220910  10/09/2022(15/08)  Bún Thái    51.0  2166300.0        KM   \n",
      "43     20220910  10/09/2022(15/08)  Bún Thái    51.0  2166300.0    Not KM   \n",
      "44     20220924  24/09/2022(29/08)  Bún Thái    25.0  1078200.0    Not KM   \n",
      "45     20220924  24/09/2022(29/08)  Bún Thái    25.0  1078200.0        KM   \n",
      "46     20220925  25/09/2022(30/08)  Bún Thái    19.0   831600.0        KM   \n",
      "47     20220925  25/09/2022(30/08)  Bún Thái    19.0   831600.0    Not KM   \n",
      "48     20220926  26/09/2022(01/09)  Bún Thái    58.0  2469600.0        KM   \n",
      "49     20220926  26/09/2022(01/09)  Bún Thái    58.0  2469600.0    Not KM   \n",
      "\n",
      "    sl_ban_cate  tong_cate  percent_sl  percent_tong  \n",
      "0          35.0  1575000.0       81.40         84.87  \n",
      "1           8.0   280800.0       18.60         15.13  \n",
      "2          24.0  1080000.0       82.76         86.02  \n",
      "3           5.0   175500.0       17.24         13.98  \n",
      "4           5.0   175500.0       13.16         10.57  \n",
      "5          33.0  1485000.0       86.84         89.43  \n",
      "6           9.0   405000.0      100.00        100.00  \n",
      "7           0.0        0.0        0.00          0.00  \n",
      "8           3.0    99900.0       21.43         16.79  \n",
      "9          11.0   495000.0       78.57         83.21  \n",
      "10         34.0  1530000.0       77.27         82.13  \n",
      "11         10.0   333000.0       22.73         17.87  \n",
      "12          1.0    33300.0        2.08          1.55  \n",
      "13         47.0  2115000.0       97.92         98.45  \n",
      "14         32.0  1440000.0       80.00         84.39  \n",
      "15          8.0   266400.0       20.00         15.61  \n",
      "16          1.0    33300.0        7.69          5.81  \n",
      "17         12.0   540000.0       92.31         94.19  \n",
      "18         21.0   945000.0       91.30         93.42  \n",
      "19          2.0    66600.0        8.70          6.58  \n",
      "20          4.0   133200.0        9.52          7.23  \n",
      "21         38.0  1710000.0       90.48         92.77  \n",
      "22          3.0    99900.0       15.79         12.18  \n",
      "23         16.0   720000.0       84.21         87.82  \n",
      "24         22.0   990000.0       68.75         74.83  \n",
      "25         10.0   333000.0       31.25         25.17  \n",
      "26          2.0    66600.0       13.33         10.22  \n",
      "27         13.0   585000.0       86.67         89.78  \n",
      "28          4.0   133200.0       13.33         10.22  \n",
      "29         26.0  1170000.0       86.67         89.78  \n",
      "30         31.0  1395000.0       68.89         74.95  \n",
      "31         14.0   466200.0       31.11         25.05  \n",
      "32          9.0   299700.0       21.95         17.23  \n",
      "33         32.0  1440000.0       78.05         82.77  \n",
      "34         52.0  2340000.0       77.61         82.41  \n",
      "35         15.0   499500.0       22.39         17.59  \n",
      "36          6.0   199800.0       18.75         14.59  \n",
      "37         26.0  1170000.0       81.25         85.41  \n",
      "38         16.0   532800.0       32.65         26.40  \n",
      "39         33.0  1485000.0       67.35         73.60  \n",
      "40         25.0  1125000.0       75.76         80.85  \n",
      "41          8.0   266400.0       24.24         19.15  \n",
      "42         11.0   366300.0       21.57         16.91  \n",
      "43         40.0  1800000.0       78.43         83.09  \n",
      "44         21.0   945000.0       84.00         87.65  \n",
      "45          4.0   133200.0       16.00         12.35  \n",
      "46          2.0    66600.0       10.53          8.01  \n",
      "47         17.0   765000.0       89.47         91.99  \n",
      "48         12.0   399600.0       20.69         16.18  \n",
      "49         46.0  2070000.0       79.31         83.82  \n"
     ]
    }
   ],
   "source": [
    "dw_qrdb = dw.QueryDB()\n",
    "\n",
    "selected_day = ['01/04/2022(01/03)', '29/04/2022(29/03)', '27/07/2022(29/06)', '29/05/2022(29/04)', '30/05/2022(01/05)',\n",
    "                '12/06/2022(14/05)', '13/06/2022(15/05)', '27/06/2022(29/05)', '28/06/2022(30/05)', '29/06/2022(01/06)',\n",
    "                '12/07/2022(14/06)', '13/07/2022(15/06)', '27/07/2022(29/06)', '28/07/2022(30/06)', '29/07/2022(01/07)',\n",
    "                '11/08/2022(14/07)', '12/08/2022(15/07)', '26/08/2022(29/07)', '27/08/2022(01/08)', '09/09/2022(14/08)',\n",
    "                '10/09/2022(15/08)', '24/09/2022(29/08)', '25/09/2022(30/08)', '26/09/2022(01/09)', '14/04/2022(14/03)',\n",
    "                '15/04/2022(15/03)']\n",
    "sltd_dish = 'Bún Thái'\n",
    "df = dw_qrdb.get_sale_off_quantity_sales_dishes_vegan_day_tbl_with_multi_days(selected_day, sltd_dish)\n",
    "print(df)"
   ]
  },
  {
   "cell_type": "code",
   "execution_count": 2,
   "metadata": {},
   "outputs": [],
   "source": [
    "from bokeh.models import FactorRange\n",
    "from bokeh.plotting import figure, show\n",
    "\n",
    "factors = [\n",
    "    (\"Q1\", \"jan\"), (\"Q1\", \"feb\"), (\"Q1\", \"mar\"),\n",
    "    (\"Q2\", \"apr\"), (\"Q2\", \"may\"), (\"Q2\", \"jun\"),\n",
    "    (\"Q3\", \"jul\"), (\"Q3\", \"aug\"), (\"Q3\", \"sep\"),\n",
    "    (\"Q4\", \"oct\"), (\"Q4\", \"nov\"), (\"Q4\", \"dec\"),\n",
    "]\n",
    "\n",
    "p = figure(x_range=FactorRange(*factors), height=350,\n",
    "           toolbar_location=None, tools=\"\")\n",
    "\n",
    "x = [ 10, 12, 16, 9, 10, 8, 12, 13, 14, 14, 12, 16 ]\n",
    "p.vbar(x=factors, top=x, width=0.9, alpha=0.5)\n",
    "\n",
    "p.line(x=[\"Q1\", \"Q2\", \"Q3\", \"Q4\"], y=[12, 9, 13, 14], color=\"red\", line_width=2)\n",
    "\n",
    "p.y_range.start = 0\n",
    "p.x_range.range_padding = 0.1\n",
    "p.xaxis.major_label_orientation = 1\n",
    "p.xgrid.grid_line_color = None\n",
    "\n",
    "show(p)"
   ]
  },
  {
   "cell_type": "code",
   "execution_count": 16,
   "metadata": {},
   "outputs": [
    {
     "data": {
      "application/vnd.plotly.v1+json": {
       "config": {
        "plotlyServerURL": "https://plot.ly"
       },
       "data": [
        {
         "alignmentgroup": "True",
         "customdata": [
          [
           280800,
           18.6,
           15.13
          ],
          [
           0,
           0,
           0
          ],
          [
           66600,
           13.33,
           10.22
          ]
         ],
         "hovertemplate": "main_cate=KM<br>ngay_filter=%{x}<br>sl_ban_cate=%{y}<br>tong_cate=%{customdata[0]}<br>percent_sl=%{customdata[1]}<br>percent_tong=%{customdata[2]}<extra></extra>",
         "legendgroup": "KM",
         "marker": {
          "color": "#636efa",
          "pattern": {
           "shape": ""
          }
         },
         "name": "KM",
         "offsetgroup": "KM",
         "orientation": "v",
         "showlegend": true,
         "textposition": "auto",
         "type": "bar",
         "x": [
          "01/04/2022(01/03)",
          "29/04/2022(29/03)",
          "27/07/2022(29/06)"
         ],
         "xaxis": "x",
         "y": [
          8,
          0,
          2
         ],
         "yaxis": "y"
        },
        {
         "alignmentgroup": "True",
         "customdata": [
          [
           1575000,
           81.4,
           84.87
          ],
          [
           405000,
           100,
           100
          ],
          [
           585000,
           86.67,
           89.78
          ]
         ],
         "hovertemplate": "main_cate=Not KM<br>ngay_filter=%{x}<br>sl_ban_cate=%{y}<br>tong_cate=%{customdata[0]}<br>percent_sl=%{customdata[1]}<br>percent_tong=%{customdata[2]}<extra></extra>",
         "legendgroup": "Not KM",
         "marker": {
          "color": "#EF553B",
          "pattern": {
           "shape": ""
          }
         },
         "name": "Not KM",
         "offsetgroup": "Not KM",
         "orientation": "v",
         "showlegend": true,
         "textposition": "auto",
         "type": "bar",
         "x": [
          "01/04/2022(01/03)",
          "29/04/2022(29/03)",
          "27/07/2022(29/06)"
         ],
         "xaxis": "x",
         "y": [
          35,
          9,
          13
         ],
         "yaxis": "y"
        },
        {
         "hovertemplate": "ngay_filter=%{x}<br>sl_ban=%{y}<extra></extra>",
         "legendgroup": "",
         "line": {
          "color": "#636efa",
          "dash": "solid"
         },
         "marker": {
          "symbol": "circle"
         },
         "mode": "lines",
         "name": "Sl tổng",
         "orientation": "v",
         "showlegend": true,
         "type": "scatter",
         "x": [
          "01/04/2022(01/03)",
          "01/04/2022(01/03)",
          "29/04/2022(29/03)",
          "29/04/2022(29/03)",
          "27/07/2022(29/06)",
          "27/07/2022(29/06)"
         ],
         "xaxis": "x",
         "y": [
          43,
          43,
          9,
          9,
          15,
          15
         ],
         "yaxis": "y"
        }
       ],
       "layout": {
        "barmode": "group",
        "legend": {
         "title": {
          "text": "main_cate"
         },
         "tracegroupgap": 0
        },
        "margin": {
         "t": 60
        },
        "template": {
         "data": {
          "bar": [
           {
            "error_x": {
             "color": "#2a3f5f"
            },
            "error_y": {
             "color": "#2a3f5f"
            },
            "marker": {
             "line": {
              "color": "#E5ECF6",
              "width": 0.5
             },
             "pattern": {
              "fillmode": "overlay",
              "size": 10,
              "solidity": 0.2
             }
            },
            "type": "bar"
           }
          ],
          "barpolar": [
           {
            "marker": {
             "line": {
              "color": "#E5ECF6",
              "width": 0.5
             },
             "pattern": {
              "fillmode": "overlay",
              "size": 10,
              "solidity": 0.2
             }
            },
            "type": "barpolar"
           }
          ],
          "carpet": [
           {
            "aaxis": {
             "endlinecolor": "#2a3f5f",
             "gridcolor": "white",
             "linecolor": "white",
             "minorgridcolor": "white",
             "startlinecolor": "#2a3f5f"
            },
            "baxis": {
             "endlinecolor": "#2a3f5f",
             "gridcolor": "white",
             "linecolor": "white",
             "minorgridcolor": "white",
             "startlinecolor": "#2a3f5f"
            },
            "type": "carpet"
           }
          ],
          "choropleth": [
           {
            "colorbar": {
             "outlinewidth": 0,
             "ticks": ""
            },
            "type": "choropleth"
           }
          ],
          "contour": [
           {
            "colorbar": {
             "outlinewidth": 0,
             "ticks": ""
            },
            "colorscale": [
             [
              0,
              "#0d0887"
             ],
             [
              0.1111111111111111,
              "#46039f"
             ],
             [
              0.2222222222222222,
              "#7201a8"
             ],
             [
              0.3333333333333333,
              "#9c179e"
             ],
             [
              0.4444444444444444,
              "#bd3786"
             ],
             [
              0.5555555555555556,
              "#d8576b"
             ],
             [
              0.6666666666666666,
              "#ed7953"
             ],
             [
              0.7777777777777778,
              "#fb9f3a"
             ],
             [
              0.8888888888888888,
              "#fdca26"
             ],
             [
              1,
              "#f0f921"
             ]
            ],
            "type": "contour"
           }
          ],
          "contourcarpet": [
           {
            "colorbar": {
             "outlinewidth": 0,
             "ticks": ""
            },
            "type": "contourcarpet"
           }
          ],
          "heatmap": [
           {
            "colorbar": {
             "outlinewidth": 0,
             "ticks": ""
            },
            "colorscale": [
             [
              0,
              "#0d0887"
             ],
             [
              0.1111111111111111,
              "#46039f"
             ],
             [
              0.2222222222222222,
              "#7201a8"
             ],
             [
              0.3333333333333333,
              "#9c179e"
             ],
             [
              0.4444444444444444,
              "#bd3786"
             ],
             [
              0.5555555555555556,
              "#d8576b"
             ],
             [
              0.6666666666666666,
              "#ed7953"
             ],
             [
              0.7777777777777778,
              "#fb9f3a"
             ],
             [
              0.8888888888888888,
              "#fdca26"
             ],
             [
              1,
              "#f0f921"
             ]
            ],
            "type": "heatmap"
           }
          ],
          "heatmapgl": [
           {
            "colorbar": {
             "outlinewidth": 0,
             "ticks": ""
            },
            "colorscale": [
             [
              0,
              "#0d0887"
             ],
             [
              0.1111111111111111,
              "#46039f"
             ],
             [
              0.2222222222222222,
              "#7201a8"
             ],
             [
              0.3333333333333333,
              "#9c179e"
             ],
             [
              0.4444444444444444,
              "#bd3786"
             ],
             [
              0.5555555555555556,
              "#d8576b"
             ],
             [
              0.6666666666666666,
              "#ed7953"
             ],
             [
              0.7777777777777778,
              "#fb9f3a"
             ],
             [
              0.8888888888888888,
              "#fdca26"
             ],
             [
              1,
              "#f0f921"
             ]
            ],
            "type": "heatmapgl"
           }
          ],
          "histogram": [
           {
            "marker": {
             "pattern": {
              "fillmode": "overlay",
              "size": 10,
              "solidity": 0.2
             }
            },
            "type": "histogram"
           }
          ],
          "histogram2d": [
           {
            "colorbar": {
             "outlinewidth": 0,
             "ticks": ""
            },
            "colorscale": [
             [
              0,
              "#0d0887"
             ],
             [
              0.1111111111111111,
              "#46039f"
             ],
             [
              0.2222222222222222,
              "#7201a8"
             ],
             [
              0.3333333333333333,
              "#9c179e"
             ],
             [
              0.4444444444444444,
              "#bd3786"
             ],
             [
              0.5555555555555556,
              "#d8576b"
             ],
             [
              0.6666666666666666,
              "#ed7953"
             ],
             [
              0.7777777777777778,
              "#fb9f3a"
             ],
             [
              0.8888888888888888,
              "#fdca26"
             ],
             [
              1,
              "#f0f921"
             ]
            ],
            "type": "histogram2d"
           }
          ],
          "histogram2dcontour": [
           {
            "colorbar": {
             "outlinewidth": 0,
             "ticks": ""
            },
            "colorscale": [
             [
              0,
              "#0d0887"
             ],
             [
              0.1111111111111111,
              "#46039f"
             ],
             [
              0.2222222222222222,
              "#7201a8"
             ],
             [
              0.3333333333333333,
              "#9c179e"
             ],
             [
              0.4444444444444444,
              "#bd3786"
             ],
             [
              0.5555555555555556,
              "#d8576b"
             ],
             [
              0.6666666666666666,
              "#ed7953"
             ],
             [
              0.7777777777777778,
              "#fb9f3a"
             ],
             [
              0.8888888888888888,
              "#fdca26"
             ],
             [
              1,
              "#f0f921"
             ]
            ],
            "type": "histogram2dcontour"
           }
          ],
          "mesh3d": [
           {
            "colorbar": {
             "outlinewidth": 0,
             "ticks": ""
            },
            "type": "mesh3d"
           }
          ],
          "parcoords": [
           {
            "line": {
             "colorbar": {
              "outlinewidth": 0,
              "ticks": ""
             }
            },
            "type": "parcoords"
           }
          ],
          "pie": [
           {
            "automargin": true,
            "type": "pie"
           }
          ],
          "scatter": [
           {
            "fillpattern": {
             "fillmode": "overlay",
             "size": 10,
             "solidity": 0.2
            },
            "type": "scatter"
           }
          ],
          "scatter3d": [
           {
            "line": {
             "colorbar": {
              "outlinewidth": 0,
              "ticks": ""
             }
            },
            "marker": {
             "colorbar": {
              "outlinewidth": 0,
              "ticks": ""
             }
            },
            "type": "scatter3d"
           }
          ],
          "scattercarpet": [
           {
            "marker": {
             "colorbar": {
              "outlinewidth": 0,
              "ticks": ""
             }
            },
            "type": "scattercarpet"
           }
          ],
          "scattergeo": [
           {
            "marker": {
             "colorbar": {
              "outlinewidth": 0,
              "ticks": ""
             }
            },
            "type": "scattergeo"
           }
          ],
          "scattergl": [
           {
            "marker": {
             "colorbar": {
              "outlinewidth": 0,
              "ticks": ""
             }
            },
            "type": "scattergl"
           }
          ],
          "scattermapbox": [
           {
            "marker": {
             "colorbar": {
              "outlinewidth": 0,
              "ticks": ""
             }
            },
            "type": "scattermapbox"
           }
          ],
          "scatterpolar": [
           {
            "marker": {
             "colorbar": {
              "outlinewidth": 0,
              "ticks": ""
             }
            },
            "type": "scatterpolar"
           }
          ],
          "scatterpolargl": [
           {
            "marker": {
             "colorbar": {
              "outlinewidth": 0,
              "ticks": ""
             }
            },
            "type": "scatterpolargl"
           }
          ],
          "scatterternary": [
           {
            "marker": {
             "colorbar": {
              "outlinewidth": 0,
              "ticks": ""
             }
            },
            "type": "scatterternary"
           }
          ],
          "surface": [
           {
            "colorbar": {
             "outlinewidth": 0,
             "ticks": ""
            },
            "colorscale": [
             [
              0,
              "#0d0887"
             ],
             [
              0.1111111111111111,
              "#46039f"
             ],
             [
              0.2222222222222222,
              "#7201a8"
             ],
             [
              0.3333333333333333,
              "#9c179e"
             ],
             [
              0.4444444444444444,
              "#bd3786"
             ],
             [
              0.5555555555555556,
              "#d8576b"
             ],
             [
              0.6666666666666666,
              "#ed7953"
             ],
             [
              0.7777777777777778,
              "#fb9f3a"
             ],
             [
              0.8888888888888888,
              "#fdca26"
             ],
             [
              1,
              "#f0f921"
             ]
            ],
            "type": "surface"
           }
          ],
          "table": [
           {
            "cells": {
             "fill": {
              "color": "#EBF0F8"
             },
             "line": {
              "color": "white"
             }
            },
            "header": {
             "fill": {
              "color": "#C8D4E3"
             },
             "line": {
              "color": "white"
             }
            },
            "type": "table"
           }
          ]
         },
         "layout": {
          "annotationdefaults": {
           "arrowcolor": "#2a3f5f",
           "arrowhead": 0,
           "arrowwidth": 1
          },
          "autotypenumbers": "strict",
          "coloraxis": {
           "colorbar": {
            "outlinewidth": 0,
            "ticks": ""
           }
          },
          "colorscale": {
           "diverging": [
            [
             0,
             "#8e0152"
            ],
            [
             0.1,
             "#c51b7d"
            ],
            [
             0.2,
             "#de77ae"
            ],
            [
             0.3,
             "#f1b6da"
            ],
            [
             0.4,
             "#fde0ef"
            ],
            [
             0.5,
             "#f7f7f7"
            ],
            [
             0.6,
             "#e6f5d0"
            ],
            [
             0.7,
             "#b8e186"
            ],
            [
             0.8,
             "#7fbc41"
            ],
            [
             0.9,
             "#4d9221"
            ],
            [
             1,
             "#276419"
            ]
           ],
           "sequential": [
            [
             0,
             "#0d0887"
            ],
            [
             0.1111111111111111,
             "#46039f"
            ],
            [
             0.2222222222222222,
             "#7201a8"
            ],
            [
             0.3333333333333333,
             "#9c179e"
            ],
            [
             0.4444444444444444,
             "#bd3786"
            ],
            [
             0.5555555555555556,
             "#d8576b"
            ],
            [
             0.6666666666666666,
             "#ed7953"
            ],
            [
             0.7777777777777778,
             "#fb9f3a"
            ],
            [
             0.8888888888888888,
             "#fdca26"
            ],
            [
             1,
             "#f0f921"
            ]
           ],
           "sequentialminus": [
            [
             0,
             "#0d0887"
            ],
            [
             0.1111111111111111,
             "#46039f"
            ],
            [
             0.2222222222222222,
             "#7201a8"
            ],
            [
             0.3333333333333333,
             "#9c179e"
            ],
            [
             0.4444444444444444,
             "#bd3786"
            ],
            [
             0.5555555555555556,
             "#d8576b"
            ],
            [
             0.6666666666666666,
             "#ed7953"
            ],
            [
             0.7777777777777778,
             "#fb9f3a"
            ],
            [
             0.8888888888888888,
             "#fdca26"
            ],
            [
             1,
             "#f0f921"
            ]
           ]
          },
          "colorway": [
           "#636efa",
           "#EF553B",
           "#00cc96",
           "#ab63fa",
           "#FFA15A",
           "#19d3f3",
           "#FF6692",
           "#B6E880",
           "#FF97FF",
           "#FECB52"
          ],
          "font": {
           "color": "#2a3f5f"
          },
          "geo": {
           "bgcolor": "white",
           "lakecolor": "white",
           "landcolor": "#E5ECF6",
           "showlakes": true,
           "showland": true,
           "subunitcolor": "white"
          },
          "hoverlabel": {
           "align": "left"
          },
          "hovermode": "closest",
          "mapbox": {
           "style": "light"
          },
          "paper_bgcolor": "white",
          "plot_bgcolor": "#E5ECF6",
          "polar": {
           "angularaxis": {
            "gridcolor": "white",
            "linecolor": "white",
            "ticks": ""
           },
           "bgcolor": "#E5ECF6",
           "radialaxis": {
            "gridcolor": "white",
            "linecolor": "white",
            "ticks": ""
           }
          },
          "scene": {
           "xaxis": {
            "backgroundcolor": "#E5ECF6",
            "gridcolor": "white",
            "gridwidth": 2,
            "linecolor": "white",
            "showbackground": true,
            "ticks": "",
            "zerolinecolor": "white"
           },
           "yaxis": {
            "backgroundcolor": "#E5ECF6",
            "gridcolor": "white",
            "gridwidth": 2,
            "linecolor": "white",
            "showbackground": true,
            "ticks": "",
            "zerolinecolor": "white"
           },
           "zaxis": {
            "backgroundcolor": "#E5ECF6",
            "gridcolor": "white",
            "gridwidth": 2,
            "linecolor": "white",
            "showbackground": true,
            "ticks": "",
            "zerolinecolor": "white"
           }
          },
          "shapedefaults": {
           "line": {
            "color": "#2a3f5f"
           }
          },
          "ternary": {
           "aaxis": {
            "gridcolor": "white",
            "linecolor": "white",
            "ticks": ""
           },
           "baxis": {
            "gridcolor": "white",
            "linecolor": "white",
            "ticks": ""
           },
           "bgcolor": "#E5ECF6",
           "caxis": {
            "gridcolor": "white",
            "linecolor": "white",
            "ticks": ""
           }
          },
          "title": {
           "x": 0.05
          },
          "xaxis": {
           "automargin": true,
           "gridcolor": "white",
           "linecolor": "white",
           "ticks": "",
           "title": {
            "standoff": 15
           },
           "zerolinecolor": "white",
           "zerolinewidth": 2
          },
          "yaxis": {
           "automargin": true,
           "gridcolor": "white",
           "linecolor": "white",
           "ticks": "",
           "title": {
            "standoff": 15
           },
           "zerolinecolor": "white",
           "zerolinewidth": 2
          }
         }
        },
        "xaxis": {
         "anchor": "y",
         "domain": [
          0,
          1
         ],
         "title": {
          "text": "ngay_filter"
         }
        },
        "yaxis": {
         "anchor": "x",
         "domain": [
          0,
          1
         ],
         "title": {
          "text": "sl_ban_cate"
         }
        }
       }
      }
     },
     "metadata": {},
     "output_type": "display_data"
    }
   ],
   "source": [
    "fig = px.bar(df, x='ngay_filter', y='sl_ban_cate', color='main_cate', hover_data=['tong_cate', 'percent_sl', 'percent_tong'], barmode = 'group').add_traces(\n",
    "                        px.line(df, x=\"ngay_filter\", y=\"sl_ban\").update_traces(showlegend=True, name=\"Sl tổng\").data\n",
    "                        )\n",
    "fig.show()"
   ]
  },
  {
   "cell_type": "code",
   "execution_count": 2,
   "metadata": {},
   "outputs": [
    {
     "data": {
      "text/html": [
       "\n",
       "<div id=\"altair-viz-2b521e66296140828102e27e933cc00b\"></div>\n",
       "<script type=\"text/javascript\">\n",
       "  var VEGA_DEBUG = (typeof VEGA_DEBUG == \"undefined\") ? {} : VEGA_DEBUG;\n",
       "  (function(spec, embedOpt){\n",
       "    let outputDiv = document.currentScript.previousElementSibling;\n",
       "    if (outputDiv.id !== \"altair-viz-2b521e66296140828102e27e933cc00b\") {\n",
       "      outputDiv = document.getElementById(\"altair-viz-2b521e66296140828102e27e933cc00b\");\n",
       "    }\n",
       "    const paths = {\n",
       "      \"vega\": \"https://cdn.jsdelivr.net/npm//vega@5?noext\",\n",
       "      \"vega-lib\": \"https://cdn.jsdelivr.net/npm//vega-lib?noext\",\n",
       "      \"vega-lite\": \"https://cdn.jsdelivr.net/npm//vega-lite@4.17.0?noext\",\n",
       "      \"vega-embed\": \"https://cdn.jsdelivr.net/npm//vega-embed@6?noext\",\n",
       "    };\n",
       "\n",
       "    function maybeLoadScript(lib, version) {\n",
       "      var key = `${lib.replace(\"-\", \"\")}_version`;\n",
       "      return (VEGA_DEBUG[key] == version) ?\n",
       "        Promise.resolve(paths[lib]) :\n",
       "        new Promise(function(resolve, reject) {\n",
       "          var s = document.createElement('script');\n",
       "          document.getElementsByTagName(\"head\")[0].appendChild(s);\n",
       "          s.async = true;\n",
       "          s.onload = () => {\n",
       "            VEGA_DEBUG[key] = version;\n",
       "            return resolve(paths[lib]);\n",
       "          };\n",
       "          s.onerror = () => reject(`Error loading script: ${paths[lib]}`);\n",
       "          s.src = paths[lib];\n",
       "        });\n",
       "    }\n",
       "\n",
       "    function showError(err) {\n",
       "      outputDiv.innerHTML = `<div class=\"error\" style=\"color:red;\">${err}</div>`;\n",
       "      throw err;\n",
       "    }\n",
       "\n",
       "    function displayChart(vegaEmbed) {\n",
       "      vegaEmbed(outputDiv, spec, embedOpt)\n",
       "        .catch(err => showError(`Javascript Error: ${err.message}<br>This usually means there's a typo in your chart specification. See the javascript console for the full traceback.`));\n",
       "    }\n",
       "\n",
       "    if(typeof define === \"function\" && define.amd) {\n",
       "      requirejs.config({paths});\n",
       "      require([\"vega-embed\"], displayChart, err => showError(`Error loading script: ${err.message}`));\n",
       "    } else {\n",
       "      maybeLoadScript(\"vega\", \"5\")\n",
       "        .then(() => maybeLoadScript(\"vega-lite\", \"4.17.0\"))\n",
       "        .then(() => maybeLoadScript(\"vega-embed\", \"6\"))\n",
       "        .catch(showError)\n",
       "        .then(() => displayChart(vegaEmbed));\n",
       "    }\n",
       "  })({\"config\": {\"view\": {\"continuousWidth\": 400, \"continuousHeight\": 300}}, \"data\": {\"name\": \"data-b2b05e6598163250c7c68085ec7926b1\"}, \"mark\": \"bar\", \"encoding\": {\"color\": {\"field\": \"group\", \"type\": \"nominal\"}, \"x\": {\"field\": \"category\", \"type\": \"nominal\"}, \"y\": {\"field\": \"value\", \"type\": \"quantitative\"}}, \"$schema\": \"https://vega.github.io/schema/vega-lite/v4.17.0.json\", \"datasets\": {\"data-b2b05e6598163250c7c68085ec7926b1\": [{\"category\": \"A\", \"group\": \"x\", \"value\": 0.1}, {\"category\": \"A\", \"group\": \"y\", \"value\": 0.6}, {\"category\": \"B\", \"group\": \"z\", \"value\": 0.9}, {\"category\": \"B\", \"group\": \"x\", \"value\": 0.7}, {\"category\": \"C\", \"group\": \"y\", \"value\": 0.2}, {\"category\": \"C\", \"group\": \"z\", \"value\": 0.6}]}}, {\"mode\": \"vega-lite\"});\n",
       "</script>"
      ],
      "text/plain": [
       "alt.Chart(...)"
      ]
     },
     "execution_count": 2,
     "metadata": {},
     "output_type": "execute_result"
    }
   ],
   "source": [
    "import altair as alt\n",
    "import pandas as pd\n",
    "\n",
    "source = pd.DataFrame(\n",
    "    {\n",
    "        \"category\": [\"A\", \"A\", \"B\", \"B\", \"C\", \"C\"],\n",
    "        \"group\": [\"x\", \"y\", \"z\", \"x\", \"y\", \"z\"],\n",
    "        \"value\": [0.1, 0.6, 0.9, 0.7, 0.2, 0.6],\n",
    "    }\n",
    ")\n",
    "\n",
    "alt.Chart(source).mark_bar().encode(\n",
    "    x=alt.X(\"category:N\"),\n",
    "    y=alt.Y(\"value:Q\"),\n",
    "    color=alt.Color(\"group:N\"),\n",
    ")"
   ]
  },
  {
   "cell_type": "code",
   "execution_count": 68,
   "metadata": {},
   "outputs": [
    {
     "data": {
      "application/vnd.plotly.v1+json": {
       "config": {
        "plotlyServerURL": "https://plot.ly"
       },
       "data": [
        {
         "alignmentgroup": "True",
         "customdata": [
          [
           1575000,
           81.4,
           84.87
          ],
          [
           1080000,
           82.76,
           86.02
          ],
          [
           1485000,
           86.84,
           89.43
          ],
          [
           405000,
           100,
           100
          ],
          [
           495000,
           78.57,
           83.21
          ],
          [
           1530000,
           77.27,
           82.13
          ],
          [
           2115000,
           97.92,
           98.45
          ],
          [
           1440000,
           80,
           84.39
          ],
          [
           540000,
           92.31,
           94.19
          ],
          [
           945000,
           91.3,
           93.42
          ],
          [
           1710000,
           90.48,
           92.77
          ],
          [
           720000,
           84.21,
           87.82
          ],
          [
           990000,
           68.75,
           74.83
          ],
          [
           585000,
           86.67,
           89.78
          ],
          [
           1170000,
           86.67,
           89.78
          ],
          [
           1395000,
           68.89,
           74.95
          ],
          [
           1440000,
           78.05,
           82.77
          ],
          [
           2340000,
           77.61,
           82.41
          ],
          [
           1170000,
           81.25,
           85.41
          ],
          [
           1485000,
           67.35,
           73.6
          ],
          [
           1125000,
           75.76,
           80.85
          ],
          [
           1800000,
           78.43,
           83.09
          ],
          [
           945000,
           84,
           87.65
          ],
          [
           765000,
           89.47,
           91.99
          ],
          [
           2070000,
           79.31,
           83.82
          ]
         ],
         "hovertemplate": "main_cate=Not KM<br>ngay_filter=%{x}<br>sl_ban_cate=%{y}<br>tong_cate=%{customdata[0]}<br>percent_sl=%{customdata[1]}<br>percent_tong=%{customdata[2]}<extra></extra>",
         "legendgroup": "Not KM",
         "marker": {
          "color": "#636efa",
          "pattern": {
           "shape": ""
          }
         },
         "name": "Not KM",
         "offsetgroup": "Not KM",
         "orientation": "v",
         "showlegend": true,
         "textposition": "auto",
         "type": "bar",
         "width": 0.4,
         "x": [
          "01/04/2022(01/03)",
          "14/04/2022(14/03)",
          "15/04/2022(15/03)",
          "29/04/2022(29/03)",
          "29/05/2022(29/04)",
          "30/05/2022(01/05)",
          "12/06/2022(14/05)",
          "13/06/2022(15/05)",
          "27/06/2022(29/05)",
          "28/06/2022(30/05)",
          "29/06/2022(01/06)",
          "12/07/2022(14/06)",
          "13/07/2022(15/06)",
          "27/07/2022(29/06)",
          "28/07/2022(30/06)",
          "29/07/2022(01/07)",
          "11/08/2022(14/07)",
          "12/08/2022(15/07)",
          "26/08/2022(29/07)",
          "27/08/2022(01/08)",
          "09/09/2022(14/08)",
          "10/09/2022(15/08)",
          "24/09/2022(29/08)",
          "25/09/2022(30/08)",
          "26/09/2022(01/09)"
         ],
         "xaxis": "x",
         "y": [
          35,
          24,
          33,
          9,
          11,
          34,
          47,
          32,
          12,
          21,
          38,
          16,
          22,
          13,
          26,
          31,
          32,
          52,
          26,
          33,
          25,
          40,
          21,
          17,
          46
         ],
         "yaxis": "y"
        },
        {
         "alignmentgroup": "True",
         "customdata": [
          [
           280800,
           18.6,
           15.13
          ],
          [
           175500,
           17.24,
           13.98
          ],
          [
           175500,
           13.16,
           10.57
          ],
          [
           0,
           0,
           0
          ],
          [
           99900,
           21.43,
           16.79
          ],
          [
           333000,
           22.73,
           17.87
          ],
          [
           33300,
           2.08,
           1.55
          ],
          [
           266400,
           20,
           15.61
          ],
          [
           33300,
           7.69,
           5.81
          ],
          [
           66600,
           8.7,
           6.58
          ],
          [
           133200,
           9.52,
           7.23
          ],
          [
           99900,
           15.79,
           12.18
          ],
          [
           333000,
           31.25,
           25.17
          ],
          [
           66600,
           13.33,
           10.22
          ],
          [
           133200,
           13.33,
           10.22
          ],
          [
           466200,
           31.11,
           25.05
          ],
          [
           299700,
           21.95,
           17.23
          ],
          [
           499500,
           22.39,
           17.59
          ],
          [
           199800,
           18.75,
           14.59
          ],
          [
           532800,
           32.65,
           26.4
          ],
          [
           266400,
           24.24,
           19.15
          ],
          [
           366300,
           21.57,
           16.91
          ],
          [
           133200,
           16,
           12.35
          ],
          [
           66600,
           10.53,
           8.01
          ],
          [
           399600,
           20.69,
           16.18
          ]
         ],
         "hovertemplate": "main_cate=KM<br>ngay_filter=%{x}<br>sl_ban_cate=%{y}<br>tong_cate=%{customdata[0]}<br>percent_sl=%{customdata[1]}<br>percent_tong=%{customdata[2]}<extra></extra>",
         "legendgroup": "KM",
         "marker": {
          "color": "#EF553B",
          "pattern": {
           "shape": ""
          }
         },
         "name": "KM",
         "offsetgroup": "KM",
         "orientation": "v",
         "showlegend": true,
         "textposition": "auto",
         "type": "bar",
         "width": 0.4,
         "x": [
          "01/04/2022(01/03)",
          "14/04/2022(14/03)",
          "15/04/2022(15/03)",
          "29/04/2022(29/03)",
          "29/05/2022(29/04)",
          "30/05/2022(01/05)",
          "12/06/2022(14/05)",
          "13/06/2022(15/05)",
          "27/06/2022(29/05)",
          "28/06/2022(30/05)",
          "29/06/2022(01/06)",
          "12/07/2022(14/06)",
          "13/07/2022(15/06)",
          "27/07/2022(29/06)",
          "28/07/2022(30/06)",
          "29/07/2022(01/07)",
          "11/08/2022(14/07)",
          "12/08/2022(15/07)",
          "26/08/2022(29/07)",
          "27/08/2022(01/08)",
          "09/09/2022(14/08)",
          "10/09/2022(15/08)",
          "24/09/2022(29/08)",
          "25/09/2022(30/08)",
          "26/09/2022(01/09)"
         ],
         "xaxis": "x",
         "y": [
          8,
          5,
          5,
          0,
          3,
          10,
          1,
          8,
          1,
          2,
          4,
          3,
          10,
          2,
          4,
          14,
          9,
          15,
          6,
          16,
          8,
          11,
          4,
          2,
          12
         ],
         "yaxis": "y"
        },
        {
         "hovertemplate": "ngay_filter=%{x}<br>sl_ban=%{y}<extra></extra>",
         "legendgroup": "",
         "line": {
          "color": "#636efa",
          "dash": "solid"
         },
         "marker": {
          "symbol": "circle"
         },
         "mode": "lines",
         "name": "Sl tổng",
         "orientation": "v",
         "showlegend": true,
         "type": "scatter",
         "x": [
          "01/04/2022(01/03)",
          "01/04/2022(01/03)",
          "14/04/2022(14/03)",
          "14/04/2022(14/03)",
          "15/04/2022(15/03)",
          "15/04/2022(15/03)",
          "29/04/2022(29/03)",
          "29/04/2022(29/03)",
          "29/05/2022(29/04)",
          "29/05/2022(29/04)",
          "30/05/2022(01/05)",
          "30/05/2022(01/05)",
          "12/06/2022(14/05)",
          "12/06/2022(14/05)",
          "13/06/2022(15/05)",
          "13/06/2022(15/05)",
          "27/06/2022(29/05)",
          "27/06/2022(29/05)",
          "28/06/2022(30/05)",
          "28/06/2022(30/05)",
          "29/06/2022(01/06)",
          "29/06/2022(01/06)",
          "12/07/2022(14/06)",
          "12/07/2022(14/06)",
          "13/07/2022(15/06)",
          "13/07/2022(15/06)",
          "27/07/2022(29/06)",
          "27/07/2022(29/06)",
          "28/07/2022(30/06)",
          "28/07/2022(30/06)",
          "29/07/2022(01/07)",
          "29/07/2022(01/07)",
          "11/08/2022(14/07)",
          "11/08/2022(14/07)",
          "12/08/2022(15/07)",
          "12/08/2022(15/07)",
          "26/08/2022(29/07)",
          "26/08/2022(29/07)",
          "27/08/2022(01/08)",
          "27/08/2022(01/08)",
          "09/09/2022(14/08)",
          "09/09/2022(14/08)",
          "10/09/2022(15/08)",
          "10/09/2022(15/08)",
          "24/09/2022(29/08)",
          "24/09/2022(29/08)",
          "25/09/2022(30/08)",
          "25/09/2022(30/08)",
          "26/09/2022(01/09)",
          "26/09/2022(01/09)"
         ],
         "xaxis": "x",
         "y": [
          43,
          43,
          29,
          29,
          38,
          38,
          9,
          9,
          14,
          14,
          44,
          44,
          48,
          48,
          40,
          40,
          13,
          13,
          23,
          23,
          42,
          42,
          19,
          19,
          32,
          32,
          15,
          15,
          30,
          30,
          45,
          45,
          41,
          41,
          67,
          67,
          32,
          32,
          49,
          49,
          33,
          33,
          51,
          51,
          25,
          25,
          19,
          19,
          58,
          58
         ],
         "yaxis": "y"
        }
       ],
       "layout": {
        "barmode": "group",
        "legend": {
         "title": {
          "text": "main_cate"
         },
         "tracegroupgap": 0
        },
        "margin": {
         "t": 60
        },
        "template": {
         "data": {
          "bar": [
           {
            "error_x": {
             "color": "#2a3f5f"
            },
            "error_y": {
             "color": "#2a3f5f"
            },
            "marker": {
             "line": {
              "color": "#E5ECF6",
              "width": 0.5
             },
             "pattern": {
              "fillmode": "overlay",
              "size": 10,
              "solidity": 0.2
             }
            },
            "type": "bar"
           }
          ],
          "barpolar": [
           {
            "marker": {
             "line": {
              "color": "#E5ECF6",
              "width": 0.5
             },
             "pattern": {
              "fillmode": "overlay",
              "size": 10,
              "solidity": 0.2
             }
            },
            "type": "barpolar"
           }
          ],
          "carpet": [
           {
            "aaxis": {
             "endlinecolor": "#2a3f5f",
             "gridcolor": "white",
             "linecolor": "white",
             "minorgridcolor": "white",
             "startlinecolor": "#2a3f5f"
            },
            "baxis": {
             "endlinecolor": "#2a3f5f",
             "gridcolor": "white",
             "linecolor": "white",
             "minorgridcolor": "white",
             "startlinecolor": "#2a3f5f"
            },
            "type": "carpet"
           }
          ],
          "choropleth": [
           {
            "colorbar": {
             "outlinewidth": 0,
             "ticks": ""
            },
            "type": "choropleth"
           }
          ],
          "contour": [
           {
            "colorbar": {
             "outlinewidth": 0,
             "ticks": ""
            },
            "colorscale": [
             [
              0,
              "#0d0887"
             ],
             [
              0.1111111111111111,
              "#46039f"
             ],
             [
              0.2222222222222222,
              "#7201a8"
             ],
             [
              0.3333333333333333,
              "#9c179e"
             ],
             [
              0.4444444444444444,
              "#bd3786"
             ],
             [
              0.5555555555555556,
              "#d8576b"
             ],
             [
              0.6666666666666666,
              "#ed7953"
             ],
             [
              0.7777777777777778,
              "#fb9f3a"
             ],
             [
              0.8888888888888888,
              "#fdca26"
             ],
             [
              1,
              "#f0f921"
             ]
            ],
            "type": "contour"
           }
          ],
          "contourcarpet": [
           {
            "colorbar": {
             "outlinewidth": 0,
             "ticks": ""
            },
            "type": "contourcarpet"
           }
          ],
          "heatmap": [
           {
            "colorbar": {
             "outlinewidth": 0,
             "ticks": ""
            },
            "colorscale": [
             [
              0,
              "#0d0887"
             ],
             [
              0.1111111111111111,
              "#46039f"
             ],
             [
              0.2222222222222222,
              "#7201a8"
             ],
             [
              0.3333333333333333,
              "#9c179e"
             ],
             [
              0.4444444444444444,
              "#bd3786"
             ],
             [
              0.5555555555555556,
              "#d8576b"
             ],
             [
              0.6666666666666666,
              "#ed7953"
             ],
             [
              0.7777777777777778,
              "#fb9f3a"
             ],
             [
              0.8888888888888888,
              "#fdca26"
             ],
             [
              1,
              "#f0f921"
             ]
            ],
            "type": "heatmap"
           }
          ],
          "heatmapgl": [
           {
            "colorbar": {
             "outlinewidth": 0,
             "ticks": ""
            },
            "colorscale": [
             [
              0,
              "#0d0887"
             ],
             [
              0.1111111111111111,
              "#46039f"
             ],
             [
              0.2222222222222222,
              "#7201a8"
             ],
             [
              0.3333333333333333,
              "#9c179e"
             ],
             [
              0.4444444444444444,
              "#bd3786"
             ],
             [
              0.5555555555555556,
              "#d8576b"
             ],
             [
              0.6666666666666666,
              "#ed7953"
             ],
             [
              0.7777777777777778,
              "#fb9f3a"
             ],
             [
              0.8888888888888888,
              "#fdca26"
             ],
             [
              1,
              "#f0f921"
             ]
            ],
            "type": "heatmapgl"
           }
          ],
          "histogram": [
           {
            "marker": {
             "pattern": {
              "fillmode": "overlay",
              "size": 10,
              "solidity": 0.2
             }
            },
            "type": "histogram"
           }
          ],
          "histogram2d": [
           {
            "colorbar": {
             "outlinewidth": 0,
             "ticks": ""
            },
            "colorscale": [
             [
              0,
              "#0d0887"
             ],
             [
              0.1111111111111111,
              "#46039f"
             ],
             [
              0.2222222222222222,
              "#7201a8"
             ],
             [
              0.3333333333333333,
              "#9c179e"
             ],
             [
              0.4444444444444444,
              "#bd3786"
             ],
             [
              0.5555555555555556,
              "#d8576b"
             ],
             [
              0.6666666666666666,
              "#ed7953"
             ],
             [
              0.7777777777777778,
              "#fb9f3a"
             ],
             [
              0.8888888888888888,
              "#fdca26"
             ],
             [
              1,
              "#f0f921"
             ]
            ],
            "type": "histogram2d"
           }
          ],
          "histogram2dcontour": [
           {
            "colorbar": {
             "outlinewidth": 0,
             "ticks": ""
            },
            "colorscale": [
             [
              0,
              "#0d0887"
             ],
             [
              0.1111111111111111,
              "#46039f"
             ],
             [
              0.2222222222222222,
              "#7201a8"
             ],
             [
              0.3333333333333333,
              "#9c179e"
             ],
             [
              0.4444444444444444,
              "#bd3786"
             ],
             [
              0.5555555555555556,
              "#d8576b"
             ],
             [
              0.6666666666666666,
              "#ed7953"
             ],
             [
              0.7777777777777778,
              "#fb9f3a"
             ],
             [
              0.8888888888888888,
              "#fdca26"
             ],
             [
              1,
              "#f0f921"
             ]
            ],
            "type": "histogram2dcontour"
           }
          ],
          "mesh3d": [
           {
            "colorbar": {
             "outlinewidth": 0,
             "ticks": ""
            },
            "type": "mesh3d"
           }
          ],
          "parcoords": [
           {
            "line": {
             "colorbar": {
              "outlinewidth": 0,
              "ticks": ""
             }
            },
            "type": "parcoords"
           }
          ],
          "pie": [
           {
            "automargin": true,
            "type": "pie"
           }
          ],
          "scatter": [
           {
            "fillpattern": {
             "fillmode": "overlay",
             "size": 10,
             "solidity": 0.2
            },
            "type": "scatter"
           }
          ],
          "scatter3d": [
           {
            "line": {
             "colorbar": {
              "outlinewidth": 0,
              "ticks": ""
             }
            },
            "marker": {
             "colorbar": {
              "outlinewidth": 0,
              "ticks": ""
             }
            },
            "type": "scatter3d"
           }
          ],
          "scattercarpet": [
           {
            "marker": {
             "colorbar": {
              "outlinewidth": 0,
              "ticks": ""
             }
            },
            "type": "scattercarpet"
           }
          ],
          "scattergeo": [
           {
            "marker": {
             "colorbar": {
              "outlinewidth": 0,
              "ticks": ""
             }
            },
            "type": "scattergeo"
           }
          ],
          "scattergl": [
           {
            "marker": {
             "colorbar": {
              "outlinewidth": 0,
              "ticks": ""
             }
            },
            "type": "scattergl"
           }
          ],
          "scattermapbox": [
           {
            "marker": {
             "colorbar": {
              "outlinewidth": 0,
              "ticks": ""
             }
            },
            "type": "scattermapbox"
           }
          ],
          "scatterpolar": [
           {
            "marker": {
             "colorbar": {
              "outlinewidth": 0,
              "ticks": ""
             }
            },
            "type": "scatterpolar"
           }
          ],
          "scatterpolargl": [
           {
            "marker": {
             "colorbar": {
              "outlinewidth": 0,
              "ticks": ""
             }
            },
            "type": "scatterpolargl"
           }
          ],
          "scatterternary": [
           {
            "marker": {
             "colorbar": {
              "outlinewidth": 0,
              "ticks": ""
             }
            },
            "type": "scatterternary"
           }
          ],
          "surface": [
           {
            "colorbar": {
             "outlinewidth": 0,
             "ticks": ""
            },
            "colorscale": [
             [
              0,
              "#0d0887"
             ],
             [
              0.1111111111111111,
              "#46039f"
             ],
             [
              0.2222222222222222,
              "#7201a8"
             ],
             [
              0.3333333333333333,
              "#9c179e"
             ],
             [
              0.4444444444444444,
              "#bd3786"
             ],
             [
              0.5555555555555556,
              "#d8576b"
             ],
             [
              0.6666666666666666,
              "#ed7953"
             ],
             [
              0.7777777777777778,
              "#fb9f3a"
             ],
             [
              0.8888888888888888,
              "#fdca26"
             ],
             [
              1,
              "#f0f921"
             ]
            ],
            "type": "surface"
           }
          ],
          "table": [
           {
            "cells": {
             "fill": {
              "color": "#EBF0F8"
             },
             "line": {
              "color": "white"
             }
            },
            "header": {
             "fill": {
              "color": "#C8D4E3"
             },
             "line": {
              "color": "white"
             }
            },
            "type": "table"
           }
          ]
         },
         "layout": {
          "annotationdefaults": {
           "arrowcolor": "#2a3f5f",
           "arrowhead": 0,
           "arrowwidth": 1
          },
          "autotypenumbers": "strict",
          "coloraxis": {
           "colorbar": {
            "outlinewidth": 0,
            "ticks": ""
           }
          },
          "colorscale": {
           "diverging": [
            [
             0,
             "#8e0152"
            ],
            [
             0.1,
             "#c51b7d"
            ],
            [
             0.2,
             "#de77ae"
            ],
            [
             0.3,
             "#f1b6da"
            ],
            [
             0.4,
             "#fde0ef"
            ],
            [
             0.5,
             "#f7f7f7"
            ],
            [
             0.6,
             "#e6f5d0"
            ],
            [
             0.7,
             "#b8e186"
            ],
            [
             0.8,
             "#7fbc41"
            ],
            [
             0.9,
             "#4d9221"
            ],
            [
             1,
             "#276419"
            ]
           ],
           "sequential": [
            [
             0,
             "#0d0887"
            ],
            [
             0.1111111111111111,
             "#46039f"
            ],
            [
             0.2222222222222222,
             "#7201a8"
            ],
            [
             0.3333333333333333,
             "#9c179e"
            ],
            [
             0.4444444444444444,
             "#bd3786"
            ],
            [
             0.5555555555555556,
             "#d8576b"
            ],
            [
             0.6666666666666666,
             "#ed7953"
            ],
            [
             0.7777777777777778,
             "#fb9f3a"
            ],
            [
             0.8888888888888888,
             "#fdca26"
            ],
            [
             1,
             "#f0f921"
            ]
           ],
           "sequentialminus": [
            [
             0,
             "#0d0887"
            ],
            [
             0.1111111111111111,
             "#46039f"
            ],
            [
             0.2222222222222222,
             "#7201a8"
            ],
            [
             0.3333333333333333,
             "#9c179e"
            ],
            [
             0.4444444444444444,
             "#bd3786"
            ],
            [
             0.5555555555555556,
             "#d8576b"
            ],
            [
             0.6666666666666666,
             "#ed7953"
            ],
            [
             0.7777777777777778,
             "#fb9f3a"
            ],
            [
             0.8888888888888888,
             "#fdca26"
            ],
            [
             1,
             "#f0f921"
            ]
           ]
          },
          "colorway": [
           "#636efa",
           "#EF553B",
           "#00cc96",
           "#ab63fa",
           "#FFA15A",
           "#19d3f3",
           "#FF6692",
           "#B6E880",
           "#FF97FF",
           "#FECB52"
          ],
          "font": {
           "color": "#2a3f5f"
          },
          "geo": {
           "bgcolor": "white",
           "lakecolor": "white",
           "landcolor": "#E5ECF6",
           "showlakes": true,
           "showland": true,
           "subunitcolor": "white"
          },
          "hoverlabel": {
           "align": "left"
          },
          "hovermode": "closest",
          "mapbox": {
           "style": "light"
          },
          "paper_bgcolor": "white",
          "plot_bgcolor": "#E5ECF6",
          "polar": {
           "angularaxis": {
            "gridcolor": "white",
            "linecolor": "white",
            "ticks": ""
           },
           "bgcolor": "#E5ECF6",
           "radialaxis": {
            "gridcolor": "white",
            "linecolor": "white",
            "ticks": ""
           }
          },
          "scene": {
           "xaxis": {
            "backgroundcolor": "#E5ECF6",
            "gridcolor": "white",
            "gridwidth": 2,
            "linecolor": "white",
            "showbackground": true,
            "ticks": "",
            "zerolinecolor": "white"
           },
           "yaxis": {
            "backgroundcolor": "#E5ECF6",
            "gridcolor": "white",
            "gridwidth": 2,
            "linecolor": "white",
            "showbackground": true,
            "ticks": "",
            "zerolinecolor": "white"
           },
           "zaxis": {
            "backgroundcolor": "#E5ECF6",
            "gridcolor": "white",
            "gridwidth": 2,
            "linecolor": "white",
            "showbackground": true,
            "ticks": "",
            "zerolinecolor": "white"
           }
          },
          "shapedefaults": {
           "line": {
            "color": "#2a3f5f"
           }
          },
          "ternary": {
           "aaxis": {
            "gridcolor": "white",
            "linecolor": "white",
            "ticks": ""
           },
           "baxis": {
            "gridcolor": "white",
            "linecolor": "white",
            "ticks": ""
           },
           "bgcolor": "#E5ECF6",
           "caxis": {
            "gridcolor": "white",
            "linecolor": "white",
            "ticks": ""
           }
          },
          "title": {
           "x": 0.05
          },
          "xaxis": {
           "automargin": true,
           "gridcolor": "white",
           "linecolor": "white",
           "ticks": "",
           "title": {
            "standoff": 15
           },
           "zerolinecolor": "white",
           "zerolinewidth": 2
          },
          "yaxis": {
           "automargin": true,
           "gridcolor": "white",
           "linecolor": "white",
           "ticks": "",
           "title": {
            "standoff": 15
           },
           "zerolinecolor": "white",
           "zerolinewidth": 2
          }
         }
        },
        "xaxis": {
         "anchor": "y",
         "domain": [
          0,
          1
         ],
         "gridwidth": 0.1,
         "tickangle": 90,
         "title": {
          "text": "ngay_filter"
         }
        },
        "yaxis": {
         "anchor": "x",
         "domain": [
          0,
          1
         ],
         "title": {
          "text": "sl_ban_cate"
         }
        }
       }
      }
     },
     "metadata": {},
     "output_type": "display_data"
    }
   ],
   "source": [
    "import plotly.express as px\n",
    "fig = px.bar(df, x='ngay_filter', y='sl_ban_cate', \n",
    "                         color='main_cate', hover_data=['tong_cate', 'percent_sl', 'percent_tong'], barmode = 'group').update_xaxes(tickangle=90, gridwidth=0.1).update_traces(width=0.4).add_traces(\n",
    "                        px.line(df, x=\"ngay_filter\", y=\"sl_ban\").update_traces(showlegend=True, name=\"Sl tổng\").data\n",
    "                        )\n",
    "fig.show()"
   ]
  },
  {
   "cell_type": "code",
   "execution_count": null,
   "metadata": {},
   "outputs": [],
   "source": []
  }
 ],
 "metadata": {
  "kernelspec": {
   "display_name": "Python 3",
   "language": "python",
   "name": "python3"
  },
  "language_info": {
   "codemirror_mode": {
    "name": "ipython",
    "version": 3
   },
   "file_extension": ".py",
   "mimetype": "text/x-python",
   "name": "python",
   "nbconvert_exporter": "python",
   "pygments_lexer": "ipython3",
   "version": "3.10.6"
  },
  "orig_nbformat": 4
 },
 "nbformat": 4,
 "nbformat_minor": 2
}
